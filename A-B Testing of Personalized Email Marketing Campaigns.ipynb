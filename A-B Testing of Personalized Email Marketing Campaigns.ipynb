{
 "cells": [
  {
   "cell_type": "markdown",
   "id": "fe743c93",
   "metadata": {},
   "source": [
    "# A/B Testing of Personalized Email Marketing Campaigns\n",
    "\n",
    "Hypothesis: Email campaigns with personalized messaging will increase conversion rate"
   ]
  },
  {
   "cell_type": "markdown",
   "id": "fb6ccfdd",
   "metadata": {},
   "source": [
    "## Business Goal: "
   ]
  },
  {
   "cell_type": "code",
   "execution_count": 15,
   "id": "b866523a",
   "metadata": {},
   "outputs": [],
   "source": [
    "import pandas as pd\n",
    "import matplotlib.pyplot as plt\n",
    "import numpy as np\n",
    "\n",
    "marketing = pd.read_csv('data/marketing.csv')"
   ]
  },
  {
   "cell_type": "code",
   "execution_count": 3,
   "id": "a3829c1d",
   "metadata": {},
   "outputs": [
    {
     "data": {
      "text/html": [
       "<div>\n",
       "<style scoped>\n",
       "    .dataframe tbody tr th:only-of-type {\n",
       "        vertical-align: middle;\n",
       "    }\n",
       "\n",
       "    .dataframe tbody tr th {\n",
       "        vertical-align: top;\n",
       "    }\n",
       "\n",
       "    .dataframe thead th {\n",
       "        text-align: right;\n",
       "    }\n",
       "</style>\n",
       "<table border=\"1\" class=\"dataframe\">\n",
       "  <thead>\n",
       "    <tr style=\"text-align: right;\">\n",
       "      <th></th>\n",
       "      <th>user_id</th>\n",
       "      <th>date_served</th>\n",
       "      <th>marketing_channel</th>\n",
       "      <th>variant</th>\n",
       "      <th>converted</th>\n",
       "      <th>language_displayed</th>\n",
       "      <th>language_preferred</th>\n",
       "      <th>age_group</th>\n",
       "      <th>date_subscribed</th>\n",
       "      <th>date_canceled</th>\n",
       "      <th>subscribing_channel</th>\n",
       "      <th>is_retained</th>\n",
       "    </tr>\n",
       "  </thead>\n",
       "  <tbody>\n",
       "    <tr>\n",
       "      <th>0</th>\n",
       "      <td>a100000029</td>\n",
       "      <td>1/1/18</td>\n",
       "      <td>House Ads</td>\n",
       "      <td>personalization</td>\n",
       "      <td>True</td>\n",
       "      <td>English</td>\n",
       "      <td>English</td>\n",
       "      <td>0-18 years</td>\n",
       "      <td>1/1/18</td>\n",
       "      <td>NaN</td>\n",
       "      <td>House Ads</td>\n",
       "      <td>True</td>\n",
       "    </tr>\n",
       "    <tr>\n",
       "      <th>1</th>\n",
       "      <td>a100000030</td>\n",
       "      <td>1/1/18</td>\n",
       "      <td>House Ads</td>\n",
       "      <td>personalization</td>\n",
       "      <td>True</td>\n",
       "      <td>English</td>\n",
       "      <td>English</td>\n",
       "      <td>19-24 years</td>\n",
       "      <td>1/1/18</td>\n",
       "      <td>NaN</td>\n",
       "      <td>House Ads</td>\n",
       "      <td>True</td>\n",
       "    </tr>\n",
       "    <tr>\n",
       "      <th>2</th>\n",
       "      <td>a100000031</td>\n",
       "      <td>1/1/18</td>\n",
       "      <td>House Ads</td>\n",
       "      <td>personalization</td>\n",
       "      <td>True</td>\n",
       "      <td>English</td>\n",
       "      <td>English</td>\n",
       "      <td>24-30 years</td>\n",
       "      <td>1/1/18</td>\n",
       "      <td>NaN</td>\n",
       "      <td>House Ads</td>\n",
       "      <td>True</td>\n",
       "    </tr>\n",
       "    <tr>\n",
       "      <th>3</th>\n",
       "      <td>a100000032</td>\n",
       "      <td>1/1/18</td>\n",
       "      <td>House Ads</td>\n",
       "      <td>personalization</td>\n",
       "      <td>True</td>\n",
       "      <td>English</td>\n",
       "      <td>English</td>\n",
       "      <td>30-36 years</td>\n",
       "      <td>1/1/18</td>\n",
       "      <td>NaN</td>\n",
       "      <td>House Ads</td>\n",
       "      <td>True</td>\n",
       "    </tr>\n",
       "    <tr>\n",
       "      <th>4</th>\n",
       "      <td>a100000033</td>\n",
       "      <td>1/1/18</td>\n",
       "      <td>House Ads</td>\n",
       "      <td>personalization</td>\n",
       "      <td>True</td>\n",
       "      <td>English</td>\n",
       "      <td>English</td>\n",
       "      <td>36-45 years</td>\n",
       "      <td>1/1/18</td>\n",
       "      <td>NaN</td>\n",
       "      <td>House Ads</td>\n",
       "      <td>True</td>\n",
       "    </tr>\n",
       "  </tbody>\n",
       "</table>\n",
       "</div>"
      ],
      "text/plain": [
       "      user_id date_served marketing_channel          variant converted  \\\n",
       "0  a100000029      1/1/18         House Ads  personalization      True   \n",
       "1  a100000030      1/1/18         House Ads  personalization      True   \n",
       "2  a100000031      1/1/18         House Ads  personalization      True   \n",
       "3  a100000032      1/1/18         House Ads  personalization      True   \n",
       "4  a100000033      1/1/18         House Ads  personalization      True   \n",
       "\n",
       "  language_displayed language_preferred    age_group date_subscribed  \\\n",
       "0            English            English   0-18 years          1/1/18   \n",
       "1            English            English  19-24 years          1/1/18   \n",
       "2            English            English  24-30 years          1/1/18   \n",
       "3            English            English  30-36 years          1/1/18   \n",
       "4            English            English  36-45 years          1/1/18   \n",
       "\n",
       "  date_canceled subscribing_channel is_retained  \n",
       "0           NaN           House Ads        True  \n",
       "1           NaN           House Ads        True  \n",
       "2           NaN           House Ads        True  \n",
       "3           NaN           House Ads        True  \n",
       "4           NaN           House Ads        True  "
      ]
     },
     "execution_count": 3,
     "metadata": {},
     "output_type": "execute_result"
    }
   ],
   "source": [
    "marketing.head()"
   ]
  },
  {
   "cell_type": "markdown",
   "id": "42e64f08",
   "metadata": {},
   "source": [
    "Test allocation\n",
    "The email portion of this campaign was actually run as an A/B test. Half the emails sent out were generic upsells to your product while the other half contained personalized messaging around the users’ usage of the site.\n",
    "\n",
    "Before you begin analyzing the results, you will check to ensure users were allocated equally to the test and control groups."
   ]
  },
  {
   "cell_type": "code",
   "execution_count": 8,
   "id": "7b65f00f",
   "metadata": {},
   "outputs": [
    {
     "data": {
      "image/png": "[encoded data removed]",
      "text/plain": [
       "<Figure size 640x480 with 1 Axes>"
      ]
     },
     "metadata": {},
     "output_type": "display_data"
    }
   ],
   "source": [
    "# Subset the DataFrame\n",
    "email = marketing[marketing['marketing_channel'] == 'Email']\n",
    "\n",
    "# Group the email DataFrame by variant \n",
    "alloc = email.groupby(['variant'])['user_id'].nunique()\n",
    "\n",
    "# Plot a bar chart of the test allocation\n",
    "alloc.plot(kind='bar')\n",
    "plt.title('Personalization test allocation')\n",
    "plt.ylabel('# participants')\n",
    "plt.show()"
   ]
  },
  {
   "cell_type": "markdown",
   "id": "5d7ca92e",
   "metadata": {},
   "source": [
    "Comparing conversion rates\n",
    "Now that we know allocation is relatively even let's look at the conversion rate for the control and personalization. Since we chose conversion rate as our key metrics for this test, it is highly important that we evaluate whether or not conversion was higher in the personalization treatment compared with the control. While we will dive in deeper in subsequent exercises, measuring the difference between the key metric in the control and the treatment is the most important part of evaluating the success of an A/B test.\n",
    "\n",
    "The DataFrame email has been loaded in your workspace which contains only rows from the marketing DataFrame where marketing_channel is 'Email'."
   ]
  },
  {
   "cell_type": "code",
   "execution_count": 36,
   "id": "c835115b",
   "metadata": {},
   "outputs": [],
   "source": [
    "# Group marketing by user_id and variant\n",
    "subscribers = email.groupby(['user_id', \n",
    "                             'variant'])['converted'].max()\n",
    "subscribers_df = pd.DataFrame(subscribers.unstack(level=1)) \n",
    "\n",
    "# Group marketing by user_id and variant\n",
    "subscribers = email.groupby(['user_id', 'variant'])['converted'].max()\n",
    "subscribers_df = pd.DataFrame(subscribers.unstack(level=1)) \n",
    "\n",
    "# Drop missing values and ensure numeric type\n",
    "control = pd.to_numeric(subscribers_df['control'].dropna(), errors='coerce')\n",
    "personalization = pd.to_numeric(subscribers_df['personalization'].dropna(), errors='coerce')"
   ]
  },
  {
   "cell_type": "code",
   "execution_count": 37,
   "id": "e59e3774",
   "metadata": {},
   "outputs": [
    {
     "name": "stdout",
     "output_type": "stream",
     "text": [
      "Control data type: bool\n",
      "Personalization data type: bool\n"
     ]
    }
   ],
   "source": [
    "# Check for any remaining non-numeric types\n",
    "print(f\"Control data type: {control.dtype}\")\n",
    "print(f\"Personalization data type: {personalization.dtype}\")\n"
   ]
  },
  {
   "cell_type": "code",
   "execution_count": 38,
   "id": "f9a73c96",
   "metadata": {},
   "outputs": [
    {
     "name": "stdout",
     "output_type": "stream",
     "text": [
      "Control conversion rate: 0.2814814814814815\n",
      "Personalization conversion rate: 0.3908450704225352\n"
     ]
    }
   ],
   "source": [
    "# Print conversion rates\n",
    "print('Control conversion rate:', np.mean(control))\n",
    "print('Personalization conversion rate:', np.mean(personalization))"
   ]
  },
  {
   "cell_type": "markdown",
   "id": "c6f8310f",
   "metadata": {},
   "source": [
    "Creating a lift function\n",
    "Lift can be calculated by calculating the difference between the treatment effect (or the mean) of the treatment compared to the treatment effect of the control divided by the treatment effect of the control. The formula for lift can be found below:\n",
    "\n",
    " \n",
    "\n",
    "The result is the percent difference between the control and treatment.\n",
    "\n",
    "In this exercise, you will create a function to automate the process of calculating lift. Many marketing teams run tests constantly. The more that you can automate the parts of the process that occur within every test, the more time you will have to do more interesting analyses."
   ]
  },
  {
   "cell_type": "code",
   "execution_count": 39,
   "id": "f74470c6",
   "metadata": {},
   "outputs": [
    {
     "name": "stdout",
     "output_type": "stream",
     "text": [
      "38.85%\n"
     ]
    }
   ],
   "source": [
    "def lift(a,b):\n",
    "    # Calcuate the mean of a and b \n",
    "    a_mean = np.mean(a)\n",
    "    b_mean = np.mean(b)\n",
    "    \n",
    "    # Calculate the lift using a_mean and b_mean\n",
    "    lift = (b_mean-a_mean)/a_mean\n",
    "  \n",
    "    return str(round(lift*100, 2)) + '%'\n",
    "  \n",
    "# Print lift() with control and personalization as inputs\n",
    "print(lift(control, personalization))"
   ]
  },
  {
   "cell_type": "markdown",
   "id": "ce546914",
   "metadata": {},
   "source": [
    "Yes, the results are statistically significant with p = 0.006."
   ]
  },
  {
   "cell_type": "code",
   "execution_count": 41,
   "id": "f360d6c1",
   "metadata": {
    "scrolled": true
   },
   "outputs": [
    {
     "name": "stdout",
     "output_type": "stream",
     "text": [
      "Ttest_indResult(statistic=-2.734329944750507, pvalue=0.006451487844694182)\n"
     ]
    }
   ],
   "source": [
    "from scipy.stats import ttest_ind\n",
    "\n",
    "t = ttest_ind(control, personalization)\n",
    "\n",
    "print(t)"
   ]
  },
  {
   "cell_type": "markdown",
   "id": "1056d675",
   "metadata": {},
   "source": [
    "Building an A/B test segmenting function\n",
    "In the previous lesson, you observed that your personalization experiment is highly statistically significant. However, when running experiments, it is important to check how new features are affecting specific demographics. Sometimes features that are highly appealing to one group are less appealing to others.\n",
    "\n",
    "Since you want to segment our data multiple times, you will build a function ab_segmentation() that analyzes the impact of your A/B tests on segments of data that you can reuse each time you want to conduct this kind of analysis.\n",
    "\n",
    "Your function will take in a column name and run through each unique value in that column calculating lift and statistical significance."
   ]
  },
  {
   "cell_type": "code",
   "execution_count": 44,
   "id": "208d7b8b",
   "metadata": {},
   "outputs": [],
   "source": [
    "def ab_segmentation(segment):\n",
    "  # Build a for loop for each segment in marketing\n",
    "  for subsegment in np.unique(marketing[segment].values):\n",
    "      print(subsegment)\n",
    "      \n",
    "      # Limit marketing to email and subsegment      \n",
    "      email = marketing[(marketing['marketing_channel'] == 'Email') & (marketing[segment] == subsegment)]\n",
    "\n",
    "      subscribers = email.groupby(['user_id', 'variant'])['converted'].max()\n",
    "      subscribers = pd.DataFrame(subscribers.unstack(level=1)) \n",
    "      control = pd.to_numeric(subscribers_df['control'].dropna(), errors='coerce')\n",
    "      personalization = pd.to_numeric(subscribers_df['personalization'].dropna(), errors='coerce')\n",
    "\n",
    "      print('lift:', lift(control, personalization))\n",
    "      print('t-statistic:', stats.ttest_ind(control, personalization), '\\n\\n')"
   ]
  },
  {
   "cell_type": "markdown",
   "id": "b284b431",
   "metadata": {},
   "source": [
    "Using your segmentation function\n",
    "Now that you've generated an ab_segmentation() function, it's time to test it out.\n",
    "\n",
    "Often a treatment will not affect all people uniformly. Some people will love a particular marketing campaign while others hate it. As a marketing data scientist, it's your responsibility to enable your marketing stakeholders to target users according to their preferences.\n",
    "\n",
    "We will run through two segments in our data that may be relevant to assessing the impact of our test.\n",
    "\n",
    "When using the ab_segmentation() function, remember to input the column name in quotes (i.e., 'language_displayed')"
   ]
  },
  {
   "cell_type": "code",
   "execution_count": 45,
   "id": "aee3250e",
   "metadata": {},
   "outputs": [
    {
     "name": "stdout",
     "output_type": "stream",
     "text": [
      "Arabic\n",
      "lift: 38.85%\n",
      "t-statistic: Ttest_indResult(statistic=-2.734329944750507, pvalue=0.006451487844694182) \n",
      "\n",
      "\n",
      "English\n",
      "lift: 38.85%\n",
      "t-statistic: Ttest_indResult(statistic=-2.734329944750507, pvalue=0.006451487844694182) \n",
      "\n",
      "\n",
      "German\n",
      "lift: 38.85%\n",
      "t-statistic: Ttest_indResult(statistic=-2.734329944750507, pvalue=0.006451487844694182) \n",
      "\n",
      "\n",
      "Spanish\n",
      "lift: 38.85%\n",
      "t-statistic: Ttest_indResult(statistic=-2.734329944750507, pvalue=0.006451487844694182) \n",
      "\n",
      "\n"
     ]
    }
   ],
   "source": [
    "# Use ab_segmentation on language displayed\n",
    "ab_segmentation('language_displayed')"
   ]
  },
  {
   "cell_type": "markdown",
   "id": "f509b356",
   "metadata": {},
   "source": [
    "Finally, you analyzed an A/B test. You learned how to determine statistical significance and the importance of segmentation in A/B tests to understand the true impact of the change. You found that while the test was a success overall, personalization was not appreciated in certain regions and by certain age groups."
   ]
  }
 ],
 "metadata": {
  "kernelspec": {
   "display_name": "Python 3 (ipykernel)",
   "language": "python",
   "name": "python3"
  },
  "language_info": {
   "codemirror_mode": {
    "name": "ipython",
    "version": 3
   },
   "file_extension": ".py",
   "mimetype": "text/x-python",
   "name": "python",
   "nbconvert_exporter": "python",
   "pygments_lexer": "ipython3",
   "version": "3.9.13"
  }
 },
 "nbformat": 4,
 "nbformat_minor": 5
}
