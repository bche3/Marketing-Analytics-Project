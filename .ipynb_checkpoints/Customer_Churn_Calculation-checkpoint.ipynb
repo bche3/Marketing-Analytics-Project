{
 "cells": [
  {
   "cell_type": "markdown",
   "id": "62a739ce-c0b4-44d3-b404-719e481d465d",
   "metadata": {},
   "source": [
    "# Calculate Customer Churn Metrics\n",
    "Churn results when a customer cancels their subscription or relationship with a company. Preventing customer churn is critical, and some estimates suggest that acquiring a new customer can be as much as [25 times as costly](https://hbr.org/2014/10/the-value-of-keeping-the-right-customers) as keeping an existing one.\n",
    "\n",
    "The first step to reducing churn is understanding the extent to which our customers are churning. We will cover three churn metrics we can use to know how many users and how much revenue we are losing to churn. It is appropriate for subscription data or other forms of recurring revenue data."
   ]
  },
  {
   "cell_type": "markdown",
   "id": "9aae9cde-e88f-4cad-b10b-53a75e6c9dc4",
   "metadata": {},
   "source": [
    "## Imports and data preparation"
   ]
  },
  {
   "cell_type": "code",
   "execution_count": null,
   "id": "d0eb4f16-5a99-460d-a5ba-706b7ef0bbe7",
   "metadata": {
    "id": "bA5ajAmk7XH6"
   },
   "outputs": [],
   "source": [
    "# Import packages\n",
    "import numpy as np\n",
    "import pandas as pd\n",
    "import plotly.express as px\n",
    "\n",
    "# Set the path to your file\n",
    "path = \"/Users/brian/Documents/GitHub/Marketing-Analytics-Projects/data/payments.csv\"\n",
    "\n",
    "# Set your date column\n",
    "date_col = \"payment_date\"\n",
    "\n",
    "# Import churn data\n",
    "payments = pd.read_csv(path, parse_dates=[date_col])\n",
    "\n",
    "# Categorize payment periods (optional)\n",
    "payments[\"payment_period\"] = pd.to_datetime(payments[date_col]) + pd.offsets.MonthBegin(-1)\n",
    "\n",
    "# Preview the data\n",
    "payments"
   ]
  },
  {
   "cell_type": "markdown",
   "id": "859c4b44-43ca-45a0-8b8c-5b52df3befdc",
   "metadata": {},
   "source": [
    "## Net retention rate\n",
    "### Calculating the net retention rate\n",
    "The first churn metric that we will calculate is the net retention rate. The net retention rate is the percentage of recurring revenue that comes from customers who were subscribed at the start of a period.\n",
    "\n",
    "$$NetRetention = \\frac{MRR_{retained\\_account}}{MRR_{start}}$$\n",
    "\n",
    "Note that this calculation does not include any revenue from new subscribers. It does include the effect of churns, upsells (e.g., customers upgrading their subscription), and down sells (e.g., customers reducing their subscription tier). Because it includes upsells, the net retention rate is a less specific measure of churn than other measures. It is, however, a good overall metric that captures churn, upsells, and down sells that can be easily interpreted by stakeholders (such as investors).\n",
    "\n",
    "&nbsp;&nbsp;_In this and the following cells that define the metric functions, you will need to update the `DateOffset()` if you wish to use a period other than monthly._"
   ]
  },
  {
   "cell_type": "code",
   "execution_count": null,
   "id": "083686f9-7113-4814-9cde-ca40a67773d1",
   "metadata": {},
   "outputs": [],
   "source": [
    "# Define a function to calculate the net retention rate\n",
    "def nrr(x, dataframe):\n",
    "    # Identify current and previous period based on group\n",
    "    current_period = x[\"payment_period\"].max()\n",
    "    previous_period = current_period - pd.DateOffset(months=1)\n",
    "    # Calculate the previous period's recurring revenue\n",
    "    previous_period_rr = dataframe[dataframe[\"payment_period\"] == previous_period][\"price\"].sum()\n",
    "    # Identify the users in the previous period\n",
    "    previous_period_users = dataframe[dataframe[\"payment_period\"] == previous_period][\"userid\"].unique()\n",
    "    # Calculate the current period's recurring revenue that comes from the previous periods's users\n",
    "    current_period_retained_rr = dataframe[\n",
    "        (dataframe[\"userid\"].isin(previous_period_users))\n",
    "        & (dataframe[\"payment_period\"] == current_period)\n",
    "    ][\"price\"].sum()\n",
    "    # Caculate and return the net retention rate\n",
    "    try:\n",
    "        nrr = current_period_retained_rr / previous_period_rr\n",
    "        return nrr\n",
    "    except:\n",
    "        return None\n",
    "\n",
    "    \n",
    "# Group the data by payment period and calculate the net retention rate\n",
    "nrr_data = (\n",
    "    payments.groupby(\"payment_period\")\n",
    "    .apply(nrr, dataframe=payments)\n",
    "    .reset_index(name=\"nrr\")\n",
    ")\n",
    "\n",
    "# Review the data\n",
    "nrr_data"
   ]
  },
  {
   "cell_type": "markdown",
   "id": "roman-division",
   "metadata": {},
   "source": [
    "_Note: You may notice low retention and high churn rates in the final month of data (February 2017). This is because the data is incomplete for this final period._"
   ]
  },
  {
   "cell_type": "markdown",
   "id": "2e8693d1-bfa9-4279-8a86-0d505535c9ef",
   "metadata": {},
   "source": [
    "### Plotting the net retention rate\n",
    "We can plot the net retention rate using a line chart from Plotly, which provides an interactive visualization of each period."
   ]
  },
  {
   "cell_type": "code",
   "execution_count": null,
   "id": "a274b7ca-7e66-44e3-9217-71757c436bb3",
   "metadata": {},
   "outputs": [],
   "source": [
    "fig = px.line(\n",
    "    nrr_data, \n",
    "    x=\"payment_period\", \n",
    "    y=\"nrr\", \n",
    "    title=\"Net Retention Rate by Period\"\n",
    ")\n",
    "\n",
    "fig.show()"
   ]
  },
  {
   "cell_type": "markdown",
   "id": "2b905087-768f-4fe8-8458-2f6223304c73",
   "metadata": {},
   "source": [
    "## Standard account churn\n",
    "### Calculating standard account churn\n",
    "The next churn metric we will calculate is \"standard account churn\". Standard account churn is the proportion of customers who cancel to the total number of customers at the start of a period. A customer is only considered a churn if they cancel all subscriptions, and therefore a down sell or reduction in the number of subscriptions a customer holds does not constitute churn.\n",
    "\n",
    "$$StandardChurnRate = \\frac{Number_{churns}}{Number_{start}}$$\n",
    "\n",
    "This metric does not consider upsells and down sells and provides an easy-to-interpret measure of churn. Standard account churn is a good metric to use when you have a free service or when all customers pay the same price."
   ]
  },
  {
   "cell_type": "code",
   "execution_count": null,
   "id": "7a0c6b73-ec27-4115-b860-eeb983768c43",
   "metadata": {},
   "outputs": [],
   "source": [
    "# Define a function to calculate the standard account churn\n",
    "def std_churn(x, dataframe):\n",
    "    # Identify current and previous period based on group\n",
    "    current_period = x[\"payment_period\"].max()\n",
    "    previous_period = current_period - pd.DateOffset(months=1)\n",
    "    # Calculate the previous period's total number of users\n",
    "    previous_period_user_count = dataframe[\n",
    "        dataframe[\"payment_period\"] == previous_period\n",
    "    ][\"userid\"].nunique()\n",
    "    # Identify the users in the previous and current periods\n",
    "    previous_period_users = dataframe[dataframe[\"payment_period\"] == previous_period][\"userid\"].unique()\n",
    "    current_period_users = dataframe[dataframe[\"payment_period\"] == current_period][\"userid\"].unique()\n",
    "    # Calculate the number of churned users\n",
    "    churns = len(np.setdiff1d(previous_period_users, current_period_users))\n",
    "    # Caculate and return the standard churn\n",
    "    try:\n",
    "        std_churn = churns / previous_period_user_count\n",
    "        return std_churn\n",
    "    except:\n",
    "        return None\n",
    "\n",
    "\n",
    "# Group the data by payment period and calculate the net retention rate\n",
    "std_churn_data = (\n",
    "    payments.groupby(\"payment_period\")\n",
    "    .apply(std_churn, dataframe=payments)\n",
    "    .reset_index(name=\"std_churn\")\n",
    ")\n",
    "\n",
    "# Review the data\n",
    "std_churn_data"
   ]
  },
  {
   "cell_type": "markdown",
   "id": "7c599661-94d9-4b2d-ba04-dcac542e1bc6",
   "metadata": {},
   "source": [
    "### Plotting the standard account churn\n",
    "We can can again plot the churn by using a Plotly line chart."
   ]
  },
  {
   "cell_type": "code",
   "execution_count": null,
   "id": "1cb85fd3-bb2e-410d-9ca0-41c6f9c1262b",
   "metadata": {},
   "outputs": [],
   "source": [
    "fig = px.line(\n",
    "    std_churn_data,\n",
    "    x=\"payment_period\",\n",
    "    y=\"std_churn\",\n",
    "    title=\"Standard Account Churn by Period\",\n",
    ")\n",
    "\n",
    "fig.show()"
   ]
  },
  {
   "cell_type": "markdown",
   "id": "16679bf5-f919-41ce-a0ee-da46236f19fd",
   "metadata": {},
   "source": [
    "## Monthly recurring revenue churn\n",
    "### Calculating monthly recurring revenue churn\n",
    "The final churn metric to cover is \"monthly recurring revenue\", a variant of net retention rate. Whereas net retention rate includes upsells, monthly recurring revenue does not, as technically, these do not constitute churn.\n",
    "\n",
    "$$MRRChurn = \\frac{MRR_{churned\\_accounts} + MRR_{downsell}}{MRR_{start}}$$\n",
    "\n",
    "Monthly recurring revenue churn is a useful metric if you have a variety of different prices (i.e., different pricing tiers). It is considered a more accurate definition of churn because it focuses exclusively on down sells and total churn."
   ]
  },
  {
   "cell_type": "code",
   "execution_count": null,
   "id": "e5b7cda6-b0a6-4c9a-845f-8d10bf63e80a",
   "metadata": {},
   "outputs": [],
   "source": [
    "# Define a function to calculate the periodly recurring revenue churn\n",
    "def mrr(x, dataframe):\n",
    "    # Identify current and previous period based on group\n",
    "    current_period = x[\"payment_period\"].max()\n",
    "    previous_period = current_period - pd.DateOffset(months=1)\n",
    "    # Identify total recurring revenue from previous period\n",
    "    previous_period_rr = dataframe[dataframe[\"payment_period\"] == previous_period][\"price\"].sum()\n",
    "    # Identify the users in the previous and current periods\n",
    "    previous_period_users = dataframe[dataframe[\"payment_period\"] == previous_period][\"userid\"].unique()\n",
    "    current_period_users = dataframe[dataframe[\"payment_period\"] == current_period][\"userid\"].unique()\n",
    "    # Identify retained and churned users\n",
    "    retained_users = np.intersect1d(previous_period_users, current_period_users)\n",
    "    churned_users = np.setdiff1d(previous_period_users, current_period_users)\n",
    "    # Identify revenue of retained users in each period\n",
    "    current_period_retained_rr = dataframe[\n",
    "        (dataframe[\"userid\"].isin(retained_users))\n",
    "        & (dataframe[\"payment_period\"] == current_period)\n",
    "    ][\"price\"].values\n",
    "    previous_period_retained_rr = dataframe[\n",
    "        (dataframe[\"userid\"].isin(retained_users))\n",
    "        & (dataframe[\"payment_period\"] == previous_period)\n",
    "    ][\"price\"].values\n",
    "    # Define mask to filter arrays for downsells\n",
    "    downsells = previous_period_retained_rr > current_period_retained_rr\n",
    "    # Calculate total downsell loss\n",
    "    downsell_loss = np.sum(\n",
    "        previous_period_retained_rr[downsells] - current_period_retained_rr[downsells]\n",
    "    )\n",
    "    # Calculate loss to users who churned\n",
    "    churn_loss = dataframe[\n",
    "        (dataframe[\"userid\"].isin(churned_users))\n",
    "        & (dataframe[\"payment_period\"] == previous_period)\n",
    "    ][\"price\"].sum()\n",
    "    # Caculate and return the monthly recurring revenue\n",
    "    try:\n",
    "        mrr = (downsell_loss + churn_loss) / previous_period_rr\n",
    "        return mrr\n",
    "    except:\n",
    "        return None\n",
    "\n",
    "\n",
    "# Group the data by payment period and calculate the monthly recurring revenue churn\n",
    "mrr_data = (\n",
    "    payments.groupby(\"payment_period\")\n",
    "    .apply(mrr, dataframe=payments)\n",
    "    .reset_index(name=\"mrr\")\n",
    ")\n",
    "\n",
    "# Review the data\n",
    "mrr_data"
   ]
  },
  {
   "cell_type": "markdown",
   "id": "f75aef00-d96f-4cd1-9286-e7b5780bf105",
   "metadata": {},
   "source": [
    "### Plotting monthly recurring revenue churn\n",
    "As with the previous metrics, we can use a Plotly line chart to plot the monthly recurring revenue churn."
   ]
  },
  {
   "cell_type": "code",
   "execution_count": null,
   "id": "a2fafbfc-807c-4d0e-a0da-1fc8e641d8a9",
   "metadata": {},
   "outputs": [],
   "source": [
    "fig = px.line(\n",
    "    mrr_data,\n",
    "    x=\"payment_period\",\n",
    "    y=\"mrr\",\n",
    "    title=\"Recurring Revenue Churn by Period\"\n",
    ")\n",
    "\n",
    "fig.show()"
   ]
  },
  {
   "cell_type": "markdown",
   "id": "1890f6db-627f-4202-bd25-ea8c3bd1e2cf",
   "metadata": {
    "tags": []
   },
   "source": [
    "## Next steps\n",
    "If you're interested in proceeding to the modeling stage of churn analysis, you may want to check out DataCamp's course [Marketing Analytics: Predicting Customer Churn in Python](https://app.datacamp.com/learn/courses/marketing-analytics-predicting-customer-churn-in-python) covers this topic in greater depth."
   ]
  },
  {
   "cell_type": "markdown",
   "id": "4c3fd052-5d95-4b76-a89b-3bd8fa1fb5ba",
   "metadata": {},
   "source": [
    "## References\n",
    "Gold, C. S. (2020). _Fighting Churn with Data: The science and strategy of customer retention)._ Manning Publications Co."
   ]
  }
 ],
 "metadata": {
  "editor": "DataCamp Workspace",
  "kernelspec": {
   "display_name": "Python 3 (ipykernel)",
   "language": "python",
   "name": "python3"
  },
  "language_info": {
   "codemirror_mode": {
    "name": "ipython",
    "version": 3
   },
   "file_extension": ".py",
   "mimetype": "text/x-python",
   "name": "python",
   "nbconvert_exporter": "python",
   "pygments_lexer": "ipython3",
   "version": "3.9.13"
  }
 },
 "nbformat": 4,
 "nbformat_minor": 5
}
